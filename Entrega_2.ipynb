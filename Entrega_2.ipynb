{
  "nbformat": 4,
  "nbformat_minor": 0,
  "metadata": {
    "colab": {
      "name": "Entrega-2.ipynb",
      "provenance": [],
      "collapsed_sections": [],
      "toc_visible": true,
      "machine_shape": "hm",
      "authorship_tag": "ABX9TyMXJ3oKUlFyPs0WnR1f5Lny",
      "include_colab_link": true
    },
    "kernelspec": {
      "name": "python3",
      "display_name": "Python 3"
    },
    "accelerator": "GPU"
  },
  "cells": [
    {
      "cell_type": "markdown",
      "metadata": {
        "id": "view-in-github",
        "colab_type": "text"
      },
      "source": [
        "<a href=\"https://colab.research.google.com/github/rabadgp/uimp-DL/blob/master/Entrega_2.ipynb\" target=\"_parent\"><img src=\"https://colab.research.google.com/assets/colab-badge.svg\" alt=\"Open In Colab\"/></a>"
      ]
    },
    {
      "cell_type": "markdown",
      "metadata": {
        "id": "ljsc016op2nL",
        "colab_type": "text"
      },
      "source": [
        "# Trabajo Final - Fase II: Implementación de la solución propuesta\n",
        "\n",
        "## 1. Introducción\n",
        "\n",
        "El problema planteado trata sobre una tarea de regresión utilizando técnicas de deep learning basadas den CNNs a partir de un dataset de imágenes proporcionado, del que desea estimar el porcentaje de pixels correspondientes a comida que exiten en una imagen dada.\n",
        "\n",
        "Para la resolución del problema se ha optado por la utilización y adaptación de modelos pre-entrenados a partir de imágenes de ImageNet sobre los que incluirán un módulo de capas completamente conectadas. \n",
        "\n",
        "Los modelos considerados han sido los siguientes:\n",
        "\n",
        "*   Xception: Presenta los mejores resultados en términos de precisión con un  tamaño y número de parámetros moderado/alto. \n",
        "*   VGG16: Arquitectura simple y homogénea basado en capas convolucionales completamente conectadas. Presenta un gran número de parámetros y tamaño por lo que la memoria necesaria para el entrenamiento en crítica. \n",
        "*   DenseNet121: Se trata de la evolución del modelo ResNet, ampliamente utilizado en aplicaciones prácticas. Se ha elegido por sus buenos resultados a pesar del reducido número de parámetros de entrenamiento."
      ]
    },
    {
      "cell_type": "markdown",
      "metadata": {
        "id": "ZPH8LBjcrYCL",
        "colab_type": "text"
      },
      "source": [
        "## 2. Importar librerías\n",
        "\n",
        "En este punto se procede a la importación de todas aquellas librerías necesarias para la implementación de la solución"
      ]
    },
    {
      "cell_type": "code",
      "metadata": {
        "id": "9pZytY3Cpd4a",
        "colab_type": "code",
        "colab": {
          "base_uri": "https://localhost:8080/",
          "height": 78
        },
        "outputId": "72bed0b9-796f-471a-dd31-909b0dc6226e"
      },
      "source": [
        "import pandas as pd\n",
        "\n",
        "import matplotlib.pyplot as plt\n",
        "\n",
        "import numpy as np\n",
        "\n",
        "from google.colab import drive\n",
        "\n",
        "from keras import applications\n",
        "from keras import metrics\n",
        "from keras import optimizers\n",
        "\n",
        "from keras.preprocessing.image import ImageDataGenerator\n",
        "from keras.layers import Dense, Dropout\n",
        "from keras.models import Model\n",
        "\n",
        "from sklearn.model_selection import train_test_split"
      ],
      "execution_count": 1,
      "outputs": [
        {
          "output_type": "stream",
          "text": [
            "Using TensorFlow backend.\n"
          ],
          "name": "stderr"
        },
        {
          "output_type": "display_data",
          "data": {
            "text/html": [
              "<p style=\"color: red;\">\n",
              "The default version of TensorFlow in Colab will switch to TensorFlow 2.x on the 27th of March, 2020.<br>\n",
              "We recommend you <a href=\"https://www.tensorflow.org/guide/migrate\" target=\"_blank\">upgrade</a> now\n",
              "or ensure your notebook will continue to use TensorFlow 1.x via the <code>%tensorflow_version 1.x</code> magic:\n",
              "<a href=\"https://colab.research.google.com/notebooks/tensorflow_version.ipynb\" target=\"_blank\">more info</a>.</p>\n"
            ],
            "text/plain": [
              "<IPython.core.display.HTML object>"
            ]
          },
          "metadata": {
            "tags": []
          }
        }
      ]
    },
    {
      "cell_type": "markdown",
      "metadata": {
        "id": "v_f3A3KZrgl4",
        "colab_type": "text"
      },
      "source": [
        "## 3. Preparación de datos\n",
        "\n",
        "### 3.1 Carga de datos\n",
        "\n",
        "El conjuto de datos de partida cuenta con un total de 1027 imágenes con una resolución de 640x480 píxeles y una separación de 3 canales según RGB con una profundidad de color de 8 bits.\n",
        "\n",
        "Estas imágenes se encuentran disponibles en la siguiente ruta relativa al fichero: .*/UNIMIB2016/images/[nombre_fichero].jpg*.\n",
        "\n",
        "Se cuenta además con el porcentaje de pixels correspondientes a comida en cada una de las imágenes. Esta información se encuentra disponible en el fichero *./UNIMIB2016/percentage.csv* con el siguiente esquema:\n",
        "\n",
        "* *image_name*: nombre de la imagen en ./UNIMIB2016/images/ en formato *.jpg en formato str\n",
        "* *food_pixels*: porcentaje de píxeles de comida expresado en tanto por cien y formato Float64"
      ]
    },
    {
      "cell_type": "code",
      "metadata": {
        "id": "_6436kJCp19l",
        "colab_type": "code",
        "outputId": "693ce947-213f-47cd-d806-7dbae4477bfb",
        "colab": {
          "base_uri": "https://localhost:8080/",
          "height": 120
        }
      },
      "source": [
        "\n",
        "# Montamos el Google Drive en el directorio del proyecto el fichero DL_UNIMIB2016.zip y descomprimimos los ficheros:\n",
        "#   /UNIMIB2016/images/*.jpg\n",
        "#   /UNIMIB2016/percentages.csv\n",
        "drive.mount('/content/gdrive')\n",
        "!unzip -n '/content/gdrive/My Drive/DL_master/DL_UNIMIB2016.zip' >> /dev/null\n",
        "\n",
        "# Especificamos las rutas a los directorios que contienen las imágenes y el fichero de porcentajes\n",
        "base_path = 'UNIMIB2016/'\n",
        "img_path = base_path + 'images/'\n",
        "pct_path = base_path + 'percentage.csv'\n",
        "\n",
        "# Especificamos la estructura del fichero percentages.csv y el tamaño de la imagen\n",
        "x_col = 'image_name'\n",
        "y_col = 'food_pixels'\n",
        "resize_factor=2\n",
        "img_channels=3\n",
        "img_size = [640,480]\n",
        "img_shape = [dim//resize_factor for dim in img_size] + [img_channels]\n",
        "\n",
        "# Lectura del fichero de CSV con los porcentajes\n",
        "df = pd.read_csv(pct_path, dtype={y_col:'Float64'})"
      ],
      "execution_count": 2,
      "outputs": [
        {
          "output_type": "stream",
          "text": [
            "Go to this URL in a browser: https://accounts.google.com/o/oauth2/auth?client_id=947318989803-6bn6qk8qdgf4n4g3pfee6491hc0brc4i.apps.googleusercontent.com&redirect_uri=urn%3aietf%3awg%3aoauth%3a2.0%3aoob&response_type=code&scope=email%20https%3a%2f%2fwww.googleapis.com%2fauth%2fdocs.test%20https%3a%2f%2fwww.googleapis.com%2fauth%2fdrive%20https%3a%2f%2fwww.googleapis.com%2fauth%2fdrive.photos.readonly%20https%3a%2f%2fwww.googleapis.com%2fauth%2fpeopleapi.readonly\n",
            "\n",
            "Enter your authorization code:\n",
            "··········\n",
            "Mounted at /content/gdrive\n"
          ],
          "name": "stdout"
        }
      ]
    },
    {
      "cell_type": "markdown",
      "metadata": {
        "id": "qSz13-0TywbE",
        "colab_type": "text"
      },
      "source": [
        "### 3.2 Obtención de los subconjuntos de entrenamiento, validación y prueba\n",
        "Los subcojuntos de entrenamiento pruebas cuentan con un tamaño del 70% y 30% del dataset original, respectivamente, lo que supone un total de 718 y 309 instancias. El subconjuto de validación, con un total de resultando con un total de 154 instancias, ha sido obtenido a partir del subconjuto de test (50%) para evitar un posible sobreajuste del modelo durante la fase de entrenamiento.\n",
        "\n",
        "Por último, el tamaño del batch considerado en el entrenamiento ha sido de 32 instancias debido a limitaciones de recursos en el entorno de ejecución y a la resolución de las imágenes, las cuales se han reducido a un tamañao de 320x240.\n",
        "\n",
        "Ademas, con el objetivo de mejorar la robusted del modelo y evitar el sobreajuste, se han utilizado las siguientes técnicas de data augmentation para la generación de los diferentes subconjuntos, teniendo en cuenta que quedan descartadas todas aquellas transformaciones sobre las imágenes que puedan modificar el porcentaje de píxeles de comida del fichero percentage.csv:\n",
        "\n",
        "• Reescale: normalización de los valores de las imágenes a un rango [0,1] aplicando un factor 1.0/255\n",
        "\n",
        "• Color shifting: alteración de los canales RGB por un factor comprendido en el rango [1,0.8]\n",
        "\n",
        "• Mirroring: generación de imágenes simétricas respecto al eje vertical y horizontal\n",
        "\n",
        "• Brightness: variabilidad aleatoria del brillo de la imagen con un factor en el rango [0.5,1.0]\n"
      ]
    },
    {
      "cell_type": "code",
      "metadata": {
        "id": "G1WaWp8Oy6uX",
        "colab_type": "code",
        "outputId": "d6a723b0-249a-4ec7-d953-c266a8c509e4",
        "colab": {
          "base_uri": "https://localhost:8080/",
          "height": 66
        }
      },
      "source": [
        "# Creamos las particiones de entrenamiento y test y se actualizan los índice de cada partición\n",
        "# train_data = 70%\n",
        "# validation_data = 50% test_data\n",
        "# test_data = 30%\n",
        "seed = 986\n",
        "train_data, test_data = train_test_split(df, test_size=0.3, random_state=seed)\n",
        "train_data = train_data.reset_index(drop=True)\n",
        "test_data = test_data.reset_index(drop=True)\n",
        "\n",
        "# Peparamos el conjunto de datos de entrenamiento y validación utilizando técnicas de data augmentation\n",
        "# Las técnicas utilizadas no deberán modificar el porcentaje de pixels de la imágen original por lo que transformaciones de giro, desplazamiento y zoom están descartadas\n",
        "# Se han considerando el volteo horizontal y vertical de imágenes, el cambio del rango del canal según un valor factor aleatorio en el rango [1,0.2] y la normalización de características\n",
        "\n",
        "img_generator = ImageDataGenerator(\n",
        "    rescale=1./255,\n",
        "    channel_shift_range=0.8,\n",
        "    brightness_range=[0.5,1.0],\n",
        "    horizontal_flip=True,\n",
        "    vertical_flip=True,\n",
        "    validation_split=0.5) # Se define un subconjunto de validación de 1/2 sobre el subconjuto de test, para evitar overffiting durante el entrenamiento\n",
        "\n",
        "# Generamos los batches para las particiones de train, validation y test\n",
        "batch_size = 32\n",
        "train_data_gen = img_generator.flow_from_dataframe(dataframe=train_data, directory=img_path, x_col=x_col, y_col=y_col, class_mode='raw',\n",
        "                                               target_size=img_shape[:-1], batch_size=batch_size)\n",
        "val_data_gen = img_generator.flow_from_dataframe(dataframe=test_data, directory=img_path, x_col=x_col, y_col=y_col, class_mode='raw',\n",
        "                                               target_size=img_shape[:-1], batch_size=batch_size, subset='validation')\n",
        "test_data_gen = img_generator.flow_from_dataframe(dataframe=test_data, directory=img_path, x_col=x_col, y_col=y_col, class_mode='raw',\n",
        "                                               target_size=img_shape[:-1], batch_size=batch_size)\n"
      ],
      "execution_count": 3,
      "outputs": [
        {
          "output_type": "stream",
          "text": [
            "Found 718 validated image filenames.\n",
            "Found 154 validated image filenames.\n",
            "Found 309 validated image filenames.\n"
          ],
          "name": "stdout"
        }
      ]
    },
    {
      "cell_type": "markdown",
      "metadata": {
        "id": "RY-IyuXRMI5z",
        "colab_type": "text"
      },
      "source": [
        "## 4 Construcción de los modelos\n",
        "\n",
        "### 4.1. Obtención de los modelos pre-entrenados\n",
        "Con el objetivo de adaptar las arquitecturas de CNNs consideradas a la tarea de regresión objeto del trabajo se ha descartado el módulo de capas complemtamente conectada para incluir un nuevo módulo basado en una capa oculta con 1024 neuronas y una capa de salida con 1 neurona, ambas capas completamenta conectadas y con función de activación ReLU. \n",
        "\n",
        "Además de las técnicas de data augmentation, se ha optado por la combinación de transfer learning junto con fine-tuning con el objetivo de recalcular los parámetros del modelo durante el proceso de entrenamiento y mejorando su ajuste para la tarea de regresión a partir de las imágenes del dataset original.\n",
        "\n",
        "Como algoritmo de optimización se ha utilizado Adam, con un learning rate inicial de 10^-5 y un decay de 10^-2 en cada iteración\n"
      ]
    },
    {
      "cell_type": "code",
      "metadata": {
        "id": "q_KRjXlDMnFh",
        "colab_type": "code",
        "colab": {}
      },
      "source": [
        "def retrive_model(model_name, weights='imagenet', trainable=True, include_top=False, dropout=True, input_shape=img_shape, pooling='avg'):\n",
        "  if model_name is 'DenseNet121':\n",
        "    model = applications.DenseNet121(weights=weights, include_top=include_top, input_shape=input_shape, pooling=pooling)\n",
        "  elif model_name is 'VGG16':\n",
        "    model = applications.VGG16(weights=weights, include_top=include_top, input_shape=input_shape, pooling=pooling)\n",
        "  elif model_name is 'Xception':\n",
        "    model = applications.Xception(weights=weights, include_top=include_top, input_shape=input_shape, pooling=pooling)\n",
        "  else: \n",
        "    raise ValueError('Model name not found')\n",
        "\n",
        "  if not trainable:\n",
        "    for layer in model.layers:\n",
        "      model.trainable = trainable\n",
        "\n",
        "  model = create_top_layer(model, dropout)\n",
        "  model.summary()\n",
        "  model.compile(loss='mean_squared_error',     # función de pérdida para problemas de regresión\n",
        "                optimizer=optimizers.adam(lr=1e-5, decay=1e-2))  # optimizador Adam, learning rate (lr)\n",
        "  return model\n",
        "  \n",
        "def create_top_layer(model, dropout, n_cells=[1024,1], activations=['relu','relu']):\n",
        "  x = model.output\n",
        "  for idx_layer in range(len(n_cells)-1):\n",
        "    x = Dense(n_cells[idx_layer], activation=activations[idx_layer])(x)\n",
        "    if dropout:\n",
        "      x = Dropout(rate=0.2)(x)\n",
        "  predictions = Dense(n_cells[-1], activation=activations[-1])(x)\n",
        "  return Model(inputs=[model.input], outputs=[predictions], name=model.name)\n"
      ],
      "execution_count": 0,
      "outputs": []
    },
    {
      "cell_type": "markdown",
      "metadata": {
        "id": "rVn4XjzVGvwK",
        "colab_type": "text"
      },
      "source": [
        "### 4.2 Entrenamiento y evaluación de los modelos\n",
        "\n",
        "El procedimiento en este punto es el de obtener os modelos, entrenarlos y validarlos con los subconjutos de datos correspondientes y representar gráficamente los resultados de la función de perdida (SME) por cada iteración.\n",
        "\n",
        "Por último, se evaluarán los modelos entrenados frente al subconjuto de test.\n"
      ]
    },
    {
      "cell_type": "code",
      "metadata": {
        "id": "FGH_7K4DGyyM",
        "colab_type": "code",
        "outputId": "a59a0e8a-3dd1-4549-d292-644f01055d07",
        "colab": {
          "base_uri": "https://localhost:8080/",
          "height": 1000
        }
      },
      "source": [
        "# Definimos el número de epochs y los modelos a entrenar para el entrenamiento de los modelos\n",
        "epochs=50\n",
        "models=['VGG16','DenseNet121', 'Xception']\n",
        "histories=[]\n",
        "evals=[]\n",
        "\n",
        "# Entrenamos y evaluamos los modelos considerados\n",
        "for model_name in models:\n",
        "  # Construimos el modelo\n",
        "  model=retrive_model(model_name=model_name)\n",
        "\n",
        "  # Entrenamos el modelo\n",
        "  history = model.fit_generator(train_data_gen, \n",
        "                      epochs=epochs, \n",
        "                      verbose=2, \n",
        "                      steps_per_epoch=train_data_gen.samples//train_data_gen.batch_size,\n",
        "                      validation_data=val_data_gen,\n",
        "                      validation_steps=val_data_gen.samples//val_data_gen.batch_size)\n",
        "  histories.append(history)\n",
        "\n",
        "  # Evaluamos el modelo y mostramos el error cuadrático medio como medida del error\n",
        "  test_sme = model.evaluate_generator(test_data_gen, \n",
        "                                      steps=test_data_gen.samples/test_data_gen.batch_size, \n",
        "                                      verbose=1)\n",
        "  evals.append(test_sme)\n",
        " \n",
        "\n",
        "# Función para imprimir las curvas loss-epoch de entrenamiento y validación\n",
        "def plot_history(history):\n",
        "  plt.figure()\n",
        "  plt.title('Training model {}'.format(history.model.name))\n",
        "  plt.xlabel('Epoch')\n",
        "  plt.ylabel('Error cuadrático medio')\n",
        "  plt.plot(history.epoch, np.array(history.history['loss']),\n",
        "           label='Error (loss) en entrenamiento')\n",
        "  plt.plot(history.epoch, np.array(history.history['val_loss']),\n",
        "           label='Error (loss) en validación')\n",
        "  plt.legend()\n",
        "  plt.ylim([0, max(1,max(np.array(history.history['loss'])))])\n",
        "\n",
        "\n",
        "# Generamos los gráficos loss-epoch\n",
        "# Mostramos información sobre el error min y máx durante el entrenamiento y el sme de la evaluación\n",
        "for idx,model in enumerate(models):\n",
        "  plot_history(histories[idx])\n",
        "  print(\"Máximo error:\",max(np.array(histories[idx].history['loss'])))\n",
        "  print(\"Mínimo error:\",min(np.array(histories[idx].history['loss'])))\n",
        "  print(\"Model: {}\\tSME: {}\".format(model, evals[idx]))\n"
      ],
      "execution_count": 20,
      "outputs": [
        {
          "output_type": "stream",
          "text": [
            "Máximo error: 120.95343466889406\n",
            "Mínimo error: 3.3815712692438686\n",
            "Model: VGG16\tSME: 3.755938240625326\n",
            "Máximo error: 197.72814109108666\n",
            "Mínimo error: 2.7355624232278273\n",
            "Model: DenseNet121\tSME: 4.95970701013954\n",
            "Máximo error: 205.22668501517515\n",
            "Mínimo error: 2.9009237942820736\n",
            "Model: Xception\tSME: 7.482032004297744\n"
          ],
          "name": "stdout"
        },
        {
          "output_type": "display_data",
          "data": {
            "image/png": "[encoded data removed]",
            "text/plain": [
              "<Figure size 432x288 with 1 Axes>"
            ]
          },
          "metadata": {
            "tags": []
          }
        },
        {
          "output_type": "display_data",
          "data": {
            "image/png": "[encoded data removed]",
            "text/plain": [
              "<Figure size 432x288 with 1 Axes>"
            ]
          },
          "metadata": {
            "tags": []
          }
        },
        {
          "output_type": "display_data",
          "data": {
            "image/png": "[encoded data removed]",
            "text/plain": [
              "<Figure size 432x288 with 1 Axes>"
            ]
          },
          "metadata": {
            "tags": []
          }
        }
      ]
    }
  ]
}